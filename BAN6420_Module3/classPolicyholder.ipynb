{
 "cells": [
  {
   "cell_type": "code",
   "execution_count": 1,
   "id": "40f16b4a-bcf4-4341-b253-9083dd4d2d7e",
   "metadata": {},
   "outputs": [],
   "source": [
    "# Create Policyholder class defining the attributes such as name, policyholder ID, and email address, etc"
   ]
  },
  {
   "cell_type": "code",
   "execution_count": null,
   "id": "c321c9de-1e00-4f2b-8050-2268d83d4442",
   "metadata": {},
   "outputs": [],
   "source": [
    "class Policyholder:\n",
    "    def__init__(self, policyholder_id, name, email):\n",
    "        self.policyholder_id = policyholder_id\n",
    "        self.name = name\n",
    "        self.email = email\n",
    "        self.active = True\n",
    "        self.products = []\n",
    "        self.payments = []\n"
   ]
  }
 ],
 "metadata": {
  "kernelspec": {
   "display_name": "Python 3 (ipykernel)",
   "language": "python",
   "name": "python3"
  },
  "language_info": {
   "codemirror_mode": {
    "name": "ipython",
    "version": 3
   },
   "file_extension": ".py",
   "mimetype": "text/x-python",
   "name": "python",
   "nbconvert_exporter": "python",
   "pygments_lexer": "ipython3",
   "version": "3.12.7"
  }
 },
 "nbformat": 4,
 "nbformat_minor": 5
}
