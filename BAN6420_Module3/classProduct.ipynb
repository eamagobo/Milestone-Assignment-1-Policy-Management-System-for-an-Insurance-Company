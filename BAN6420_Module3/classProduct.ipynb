{
 "cells": [
  {
   "cell_type": "code",
   "execution_count": 1,
   "id": "40f16b4a-bcf4-4341-b253-9083dd4d2d7e",
   "metadata": {},
   "outputs": [],
   "source": [
    "# Create Product class defining the attributes like product name, product ID, and Price"
   ]
  },
  {
   "cell_type": "code",
   "execution_count": null,
   "id": "7cc574dc-7160-42ef-aca2-2f8c5df96f43",
   "metadata": {},
   "outputs": [],
   "source": [
    "class Product:\n",
    "    def __init__(self,  product_id, name price):\n",
    "        self.product_id = product_id\n",
    "        self.name = name\n",
    "        self.price = price\n",
    "        self.active = True"
   ]
  }
 ],
 "metadata": {
  "kernelspec": {
   "display_name": "Python 3 (ipykernel)",
   "language": "python",
   "name": "python3"
  },
  "language_info": {
   "codemirror_mode": {
    "name": "ipython",
    "version": 3
   },
   "file_extension": ".py",
   "mimetype": "text/x-python",
   "name": "python",
   "nbconvert_exporter": "python",
   "pygments_lexer": "ipython3",
   "version": "3.12.7"
  }
 },
 "nbformat": 4,
 "nbformat_minor": 5
}
