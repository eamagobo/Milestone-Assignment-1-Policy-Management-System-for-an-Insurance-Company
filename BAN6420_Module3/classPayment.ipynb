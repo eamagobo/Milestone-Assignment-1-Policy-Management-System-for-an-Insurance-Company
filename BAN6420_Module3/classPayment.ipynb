{
 "cells": [
  {
   "cell_type": "code",
   "execution_count": 1,
   "id": "7c6301a1-192e-4fb0-a490-12b23555675e",
   "metadata": {},
   "outputs": [],
   "source": [
    "# creating the Payment class"
   ]
  },
  {
   "cell_type": "code",
   "execution_count": null,
   "id": "628c4f0b-b981-4a8f-9bd5-c1339a44485f",
   "metadata": {},
   "outputs": [],
   "source": [
    "class Payment:\n",
    "    def __init__(self, policyholder, product, amount):\n",
    "        self.policyholder = policyholder\n",
    "        self.product = product\n",
    "        self.amount= amount\n",
    "        self.date = datetime.now().strftime(\"%Y-%m-%d %H:%M:%S\")"
   ]
  }
 ],
 "metadata": {
  "kernelspec": {
   "display_name": "Python 3 (ipykernel)",
   "language": "python",
   "name": "python3"
  },
  "language_info": {
   "codemirror_mode": {
    "name": "ipython",
    "version": 3
   },
   "file_extension": ".py",
   "mimetype": "text/x-python",
   "name": "python",
   "nbconvert_exporter": "python",
   "pygments_lexer": "ipython3",
   "version": "3.12.7"
  }
 },
 "nbformat": 4,
 "nbformat_minor": 5
}
